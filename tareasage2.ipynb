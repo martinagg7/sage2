{
 "cells": [
  {
   "cell_type": "code",
   "execution_count": null,
   "id": "e531ebae",
   "metadata": {},
   "outputs": [],
   "source": [
    "floor(-3.56)\n",
    "ceil(-3.56)"
   ]
  },
  {
   "cell_type": "code",
   "execution_count": null,
   "id": "a0b49c88",
   "metadata": {},
   "outputs": [],
   "source": [
    "log(100,e)\n",
    "log(100,10)\n",
    "log(100,e)/log(100,10)"
   ]
  },
  {
   "cell_type": "code",
   "execution_count": null,
   "id": "299dd245",
   "metadata": {},
   "outputs": [],
   "source": [
    "log(64,2)"
   ]
  },
  {
   "cell_type": "code",
   "execution_count": null,
   "id": "819dcf26",
   "metadata": {},
   "outputs": [],
   "source": [
    "a=e**pi\n",
    "solucion=a**i\n",
    "a**i.n()    #aproximacion numerica\n",
    "print(a)\n",
    "print(solucion)\n",
    "#no se puede comparar a y solucion porque no son de la misma clase"
   ]
  },
  {
   "cell_type": "code",
   "execution_count": null,
   "id": "8ad7c1df",
   "metadata": {},
   "outputs": [],
   "source": [
    "sin(pi/2)\n",
    "cot(pi/4)\n",
    "csc(pi/16)\n",
    "csc(pi/16).n()  #para que me de la aproximación numérica"
   ]
  }
 ],
 "metadata": {
  "kernelspec": {
   "display_name": "SageMath 9.7",
   "language": "sage",
   "name": "sagemath-9.7"
  },
  "language_info": {
   "codemirror_mode": {
    "name": "ipython",
    "version": 3
   },
   "file_extension": ".py",
   "mimetype": "text/x-python",
   "name": "python",
   "nbconvert_exporter": "python",
   "pygments_lexer": "ipython3",
   "version": "3.10.5"
  }
 },
 "nbformat": 4,
 "nbformat_minor": 5
}
